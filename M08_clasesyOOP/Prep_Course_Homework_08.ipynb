{
 "cells": [
  {
   "attachments": {},
   "cell_type": "markdown",
   "metadata": {},
   "source": [
    "## Clases y Programación Orientada a Objetos"
   ]
  },
  {
   "attachments": {},
   "cell_type": "markdown",
   "metadata": {},
   "source": [
    "1) Crear la clase vehículo que contenga los atributos:<br>\n",
    "Color<br>\n",
    "Si es moto, auto, camioneta ó camión<br>\n",
    "Cilindrada del motor"
   ]
  },
  {
   "cell_type": "code",
   "execution_count": 1,
   "metadata": {},
   "outputs": [],
   "source": [
    "class Vehículo:\n",
    "    def __init__(self,color,vehículo,cilindraje):\n",
    "        self.color= color\n",
    "        self.vehículo= vehículo\n",
    "        self.cilindraje= cilindraje\n",
    "       "
   ]
  },
  {
   "cell_type": "code",
   "execution_count": 2,
   "metadata": {},
   "outputs": [],
   "source": [
    "vehículo1= Vehículo('Azul','carro',1400)"
   ]
  },
  {
   "cell_type": "code",
   "execution_count": 3,
   "metadata": {},
   "outputs": [
    {
     "name": "stdout",
     "output_type": "stream",
     "text": [
      "<__main__.Vehículo object at 0x000001D305638190>\n"
     ]
    }
   ],
   "source": [
    "print(vehículo1 )"
   ]
  },
  {
   "attachments": {},
   "cell_type": "markdown",
   "metadata": {},
   "source": [
    "2) A la clase Vehiculo creada en el punto 1, agregar los siguientes métodos:<br>\n",
    "Acelerar<br>\n",
    "Frenar<br>\n",
    "Doblar<br>"
   ]
  },
  {
   "cell_type": "code",
   "execution_count": 4,
   "metadata": {},
   "outputs": [],
   "source": [
    "class Vehículo:\n",
    "    def __init__(self,color,vehículo,cilindraje):\n",
    "        self.color= color\n",
    "        self.vehículo= vehículo\n",
    "        self.cilindraje= cilindraje\n",
    "        self.velocidad=0\n",
    "        self.girar=0\n",
    "    def Acelerar(self,velocidad):\n",
    "        self.velocidad +=velocidad\n",
    "    def Frenar(self,velocidad):\n",
    "        self.velocidad -=velocidad\n",
    "    def Doblar(self,girar):\n",
    "        self.girar +=girar"
   ]
  },
  {
   "attachments": {},
   "cell_type": "markdown",
   "metadata": {},
   "source": [
    "3) Instanciar 3 objetos de la clase vehículo y ejecutar sus métodos, probar luego el resultado"
   ]
  },
  {
   "cell_type": "code",
   "execution_count": 6,
   "metadata": {},
   "outputs": [],
   "source": [
    "vehículo1= Vehículo('Azul','carro',1400)\n",
    "vehículo2= Vehículo('Verde','moto',1000)\n",
    "vehículo3= Vehículo('Negro','camioneta',2000)"
   ]
  },
  {
   "cell_type": "code",
   "execution_count": 7,
   "metadata": {},
   "outputs": [],
   "source": [
    "vehículo1.Acelerar(50)\n",
    "vehículo2.Acelerar(60)\n",
    "vehículo3.Acelerar(40)\n",
    "\n",
    "vehículo1.Doblar(20)\n",
    "vehículo2.Doblar(-30)\n",
    "\n",
    "vehículo2.Frenar(50)\n",
    "vehículo3.Frenar(10)"
   ]
  },
  {
   "attachments": {},
   "cell_type": "markdown",
   "metadata": {},
   "source": [
    "4) Agregar a la clase Vehiculo, un método que muestre su estado, es decir, a que velocidad se encuentra y su dirección. Y otro método que muestre color, tipo y cilindrada"
   ]
  },
  {
   "cell_type": "code",
   "execution_count": 8,
   "metadata": {},
   "outputs": [],
   "source": [
    "class Vehículo:\n",
    "    def __init__(self,color,vehículo,cilindraje):\n",
    "        self.color= color\n",
    "        self.vehículo= vehículo\n",
    "        self.cilindraje= cilindraje\n",
    "        self.velocidad=0\n",
    "        self.girar=0\n",
    "        \n",
    "    def Acelerar(self,velocidad):\n",
    "        self.velocidad +=velocidad\n",
    "        \n",
    "    def Frenar(self,velocidad):\n",
    "        self.velocidad -=velocidad\n",
    "        \n",
    "    def Doblar(self,girar):\n",
    "        self.girar +=girar\n",
    "        \n",
    "    def Estado(self):\n",
    "        print('Velocidad:',self.velocidad,'Dirección:',self.girar)\n",
    "        \n",
    "    def Caracteristicas(self):\n",
    "        print('Soy de color',self.color,'De tipo ',self.vehículo,'Su cilindraje es ',self.cilindraje,'litros')"
   ]
  },
  {
   "cell_type": "code",
   "execution_count": 10,
   "metadata": {},
   "outputs": [],
   "source": [
    "vehículo1= Vehículo('Azul','carro',1400)\n",
    "vehículo2= Vehículo('Verde','moto',1000)\n",
    "vehículo3= Vehículo('Negro','camioneta',2000)"
   ]
  },
  {
   "cell_type": "code",
   "execution_count": 11,
   "metadata": {},
   "outputs": [],
   "source": [
    "vehículo1.Acelerar(50)\n",
    "vehículo2.Acelerar(60)\n",
    "vehículo3.Acelerar(40)\n",
    "\n",
    "vehículo1.Doblar(20)\n",
    "vehículo2.Doblar(-30)\n",
    "\n",
    "vehículo2.Frenar(50)\n",
    "vehículo3.Frenar(10)"
   ]
  },
  {
   "cell_type": "code",
   "execution_count": 12,
   "metadata": {},
   "outputs": [
    {
     "name": "stdout",
     "output_type": "stream",
     "text": [
      "Velocidad: 50 Dirección: 20\n"
     ]
    }
   ],
   "source": [
    "vehículo1.Estado()"
   ]
  },
  {
   "attachments": {},
   "cell_type": "markdown",
   "metadata": {},
   "source": [
    "5) Crear una clase que permita utilizar las funciones creadas en la práctica del módulo 7<br>\n",
    "Verificar Primo<br>\n",
    "Valor modal<br>\n",
    "Conversión grados<br>\n",
    "Factorial<br>"
   ]
  },
  {
   "cell_type": "code",
   "execution_count": null,
   "metadata": {},
   "outputs": [],
   "source": []
  },
  {
   "attachments": {},
   "cell_type": "markdown",
   "metadata": {},
   "source": [
    "6) Probar las funciones incorporadas en la clase del punto 5"
   ]
  },
  {
   "cell_type": "code",
   "execution_count": null,
   "metadata": {},
   "outputs": [],
   "source": []
  },
  {
   "attachments": {},
   "cell_type": "markdown",
   "metadata": {},
   "source": [
    "7) Es necesario que la clase creada en el punto 5 contenga una lista, sobre la cual se apliquen las funciones incorporadas"
   ]
  },
  {
   "cell_type": "code",
   "execution_count": null,
   "metadata": {},
   "outputs": [],
   "source": []
  },
  {
   "attachments": {},
   "cell_type": "markdown",
   "metadata": {},
   "source": [
    "8) Crear un archivo .py aparte y ubicar allí la clase generada en el punto anterior. Luego realizar la importación del módulo y probar alguna de sus funciones"
   ]
  },
  {
   "cell_type": "code",
   "execution_count": null,
   "metadata": {},
   "outputs": [],
   "source": []
  }
 ],
 "metadata": {
  "interpreter": {
   "hash": "c85384e4cb51c8b72350f3a8712cc8351fdc3955e32a27f9b60c6242ab125f01"
  },
  "kernelspec": {
   "display_name": "Python 3 (ipykernel)",
   "language": "python",
   "name": "python3"
  },
  "language_info": {
   "codemirror_mode": {
    "name": "ipython",
    "version": 3
   },
   "file_extension": ".py",
   "mimetype": "text/x-python",
   "name": "python",
   "nbconvert_exporter": "python",
   "pygments_lexer": "ipython3",
   "version": "3.11.6"
  }
 },
 "nbformat": 4,
 "nbformat_minor": 4
}

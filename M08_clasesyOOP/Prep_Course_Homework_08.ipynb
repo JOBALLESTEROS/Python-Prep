{
 "cells": [
  {
   "attachments": {},
   "cell_type": "markdown",
   "metadata": {},
   "source": [
    "## Clases y Programación Orientada a Objetos"
   ]
  },
  {
   "attachments": {},
   "cell_type": "markdown",
   "metadata": {},
   "source": [
    "1) Crear la clase vehículo que contenga los atributos:<br>\n",
    "Color<br>\n",
    "Si es moto, auto, camioneta ó camión<br>\n",
    "Cilindrada del motor"
   ]
  },
  {
   "cell_type": "code",
   "execution_count": 1,
   "metadata": {},
   "outputs": [],
   "source": [
    "class Vehículo:\n",
    "    def __init__(self,color,vehículo,cilindraje):\n",
    "        self.color= color\n",
    "        self.vehículo= vehículo\n",
    "        self.cilindraje= cilindraje\n",
    "       "
   ]
  },
  {
   "cell_type": "code",
   "execution_count": 2,
   "metadata": {},
   "outputs": [],
   "source": [
    "vehículo1= Vehículo('Azul','carro',1400)"
   ]
  },
  {
   "cell_type": "code",
   "execution_count": 3,
   "metadata": {},
   "outputs": [
    {
     "name": "stdout",
     "output_type": "stream",
     "text": [
      "<__main__.Vehículo object at 0x000001D305638190>\n"
     ]
    }
   ],
   "source": [
    "print(vehículo1 )"
   ]
  },
  {
   "attachments": {},
   "cell_type": "markdown",
   "metadata": {},
   "source": [
    "2) A la clase Vehiculo creada en el punto 1, agregar los siguientes métodos:<br>\n",
    "Acelerar<br>\n",
    "Frenar<br>\n",
    "Doblar<br>"
   ]
  },
  {
   "cell_type": "code",
   "execution_count": 4,
   "metadata": {},
   "outputs": [],
   "source": [
    "class Vehículo:\n",
    "    def __init__(self,color,vehículo,cilindraje):\n",
    "        self.color= color\n",
    "        self.vehículo= vehículo\n",
    "        self.cilindraje= cilindraje\n",
    "        self.velocidad=0\n",
    "        self.girar=0\n",
    "    def Acelerar(self,velocidad):\n",
    "        self.velocidad +=velocidad\n",
    "    def Frenar(self,velocidad):\n",
    "        self.velocidad -=velocidad\n",
    "    def Doblar(self,girar):\n",
    "        self.girar +=girar"
   ]
  },
  {
   "attachments": {},
   "cell_type": "markdown",
   "metadata": {},
   "source": [
    "3) Instanciar 3 objetos de la clase vehículo y ejecutar sus métodos, probar luego el resultado"
   ]
  },
  {
   "cell_type": "code",
   "execution_count": 6,
   "metadata": {},
   "outputs": [],
   "source": [
    "vehículo1= Vehículo('Azul','carro',1400)\n",
    "vehículo2= Vehículo('Verde','moto',1000)\n",
    "vehículo3= Vehículo('Negro','camioneta',2000)"
   ]
  },
  {
   "cell_type": "code",
   "execution_count": 7,
   "metadata": {},
   "outputs": [],
   "source": [
    "vehículo1.Acelerar(50)\n",
    "vehículo2.Acelerar(60)\n",
    "vehículo3.Acelerar(40)\n",
    "\n",
    "vehículo1.Doblar(20)\n",
    "vehículo2.Doblar(-30)\n",
    "\n",
    "vehículo2.Frenar(50)\n",
    "vehículo3.Frenar(10)"
   ]
  },
  {
   "attachments": {},
   "cell_type": "markdown",
   "metadata": {},
   "source": [
    "4) Agregar a la clase Vehiculo, un método que muestre su estado, es decir, a que velocidad se encuentra y su dirección. Y otro método que muestre color, tipo y cilindrada"
   ]
  },
  {
   "cell_type": "code",
   "execution_count": 8,
   "metadata": {},
   "outputs": [],
   "source": [
    "class Vehículo:\n",
    "    def __init__(self,color,vehículo,cilindraje):\n",
    "        self.color= color\n",
    "        self.vehículo= vehículo\n",
    "        self.cilindraje= cilindraje\n",
    "        self.velocidad=0\n",
    "        self.girar=0\n",
    "        \n",
    "    def Acelerar(self,velocidad):\n",
    "        self.velocidad +=velocidad\n",
    "        \n",
    "    def Frenar(self,velocidad):\n",
    "        self.velocidad -=velocidad\n",
    "        \n",
    "    def Doblar(self,girar):\n",
    "        self.girar +=girar\n",
    "        \n",
    "    def Estado(self):\n",
    "        print('Velocidad:',self.velocidad,'Dirección:',self.girar)\n",
    "        \n",
    "    def Caracteristicas(self):\n",
    "        print('Soy de color',self.color,'De tipo ',self.vehículo,'Su cilindraje es ',self.cilindraje,'litros')"
   ]
  },
  {
   "cell_type": "code",
   "execution_count": 10,
   "metadata": {},
   "outputs": [],
   "source": [
    "vehículo1= Vehículo('Azul','carro',1400)\n",
    "vehículo2= Vehículo('Verde','moto',1000)\n",
    "vehículo3= Vehículo('Negro','camioneta',2000)"
   ]
  },
  {
   "cell_type": "code",
   "execution_count": 11,
   "metadata": {},
   "outputs": [],
   "source": [
    "vehículo1.Acelerar(50)\n",
    "vehículo2.Acelerar(60)\n",
    "vehículo3.Acelerar(40)\n",
    "\n",
    "vehículo1.Doblar(20)\n",
    "vehículo2.Doblar(-30)\n",
    "\n",
    "vehículo2.Frenar(50)\n",
    "vehículo3.Frenar(10)"
   ]
  },
  {
   "cell_type": "code",
   "execution_count": 12,
   "metadata": {},
   "outputs": [
    {
     "name": "stdout",
     "output_type": "stream",
     "text": [
      "Velocidad: 50 Dirección: 20\n"
     ]
    }
   ],
   "source": [
    "vehículo1.Estado()"
   ]
  },
  {
   "attachments": {},
   "cell_type": "markdown",
   "metadata": {},
   "source": [
    "5) Crear una clase que permita utilizar las funciones creadas en la práctica del módulo 7<br>\n",
    "Verificar Primo<br>\n",
    "Valor modal<br>\n",
    "Conversión grados<br>\n",
    "Factorial<br>"
   ]
  },
  {
   "cell_type": "code",
   "execution_count": 31,
   "metadata": {},
   "outputs": [],
   "source": [
    "class funciones():\n",
    "    def __init__(self) -> None:\n",
    "        pass \n",
    "    \n",
    "    def verifica_primo(self, numero):\n",
    "        es_primo=True\n",
    "        for i in range(2,numero):\n",
    "            if numero%i ==0:\n",
    "              es_primo=False\n",
    "            break   \n",
    "        return es_primo\n",
    "    \n",
    "    def valor_repetido(self,lista):\n",
    "        lista_unicos = []\n",
    "        lista_repeticiones = []\n",
    "        if len(self.lista) == 0:\n",
    "            return None\n",
    "        for elemento in lista:\n",
    "            if elemento in lista_unicos:\n",
    "               i = lista_unicos.index(elemento)\n",
    "               lista_repeticiones[i] += 1\n",
    "            else:\n",
    "               lista_unicos.append(elemento)\n",
    "               lista_repeticiones.append(1)\n",
    "        moda = lista_unicos[0]\n",
    "        maximo = lista_repeticiones[0]\n",
    "        for i, elemento in enumerate(lista_unicos):\n",
    "            if lista_repeticiones[i] > maximo:\n",
    "               moda = lista_unicos[i]\n",
    "               maximo = lista_repeticiones[i]\n",
    "        return moda, maximo\n",
    "    \n",
    "    def grados (self,numero,tipo1,tipo2):\n",
    "        if tipo1 == 'Celcius':\n",
    "           if tipo2== 'Celcius':\n",
    "            valor=numero\n",
    "           elif tipo2=='Farenheit':\n",
    "            valor =(numero*9/5)+32\n",
    "           elif tipo2=='Kelvin':\n",
    "            valor=numero+273.5\n",
    "           else:\n",
    "               ('No se reconoce el valor tipo2')\n",
    "        elif tipo1 == 'Farenheit':\n",
    "            if tipo2== 'Celcius':\n",
    "               valor=(numero-32)*5/9\n",
    "            elif tipo2=='Farenheit':\n",
    "               valor =numero\n",
    "            elif tipo2=='Kelvin':\n",
    "              valor=((numero-32)*5/9)+273.5\n",
    "            else:\n",
    "               ('No se reconoce el valor tipo2')\n",
    "        elif tipo1 == 'Kelvin':\n",
    "            if tipo2== 'Celcius':\n",
    "              valor=numero-273.5\n",
    "            elif tipo2=='Farenheit':\n",
    "              valor =((numero-273.5)*9/5)+32\n",
    "            elif tipo2=='Kelvin':\n",
    "              valor=numero\n",
    "            else:\n",
    "               ('No se reconoce el valor tipo2')\n",
    "        else:\n",
    "            ('No se reconoce el valor tipo1') \n",
    "        return  valor\n",
    "    \n",
    "    def factorial(self,numero):\n",
    "        while numero <=0:\n",
    "            print(' No se puede operar con el número ingresado')\n",
    "            break\n",
    "        if numero>1:\n",
    "             numero=numero*self.factorial(numero-1)\n",
    "        return numero\n",
    "        \n",
    "        "
   ]
  },
  {
   "attachments": {},
   "cell_type": "markdown",
   "metadata": {},
   "source": [
    "6) Probar las funciones incorporadas en la clase del punto 5"
   ]
  },
  {
   "cell_type": "code",
   "execution_count": 20,
   "metadata": {},
   "outputs": [],
   "source": [
    "a1=funciones()"
   ]
  },
  {
   "cell_type": "code",
   "execution_count": 21,
   "metadata": {},
   "outputs": [
    {
     "data": {
      "text/plain": [
       "True"
      ]
     },
     "execution_count": 21,
     "metadata": {},
     "output_type": "execute_result"
    }
   ],
   "source": [
    "a1.verifica_primo(5)"
   ]
  },
  {
   "cell_type": "code",
   "execution_count": 32,
   "metadata": {},
   "outputs": [
    {
     "ename": "TypeError",
     "evalue": "funciones.valor_repetido() takes 1 positional argument but 2 were given",
     "output_type": "error",
     "traceback": [
      "\u001b[1;31m---------------------------------------------------------------------------\u001b[0m",
      "\u001b[1;31mTypeError\u001b[0m                                 Traceback (most recent call last)",
      "Cell \u001b[1;32mIn[32], line 2\u001b[0m\n\u001b[0;32m      1\u001b[0m lista \u001b[38;5;241m=\u001b[39m [\u001b[38;5;241m1\u001b[39m,\u001b[38;5;241m1\u001b[39m,\u001b[38;5;241m5\u001b[39m,\u001b[38;5;241m6\u001b[39m,\u001b[38;5;241m8\u001b[39m,\u001b[38;5;241m10\u001b[39m,\u001b[38;5;241m22\u001b[39m,\u001b[38;5;241m5\u001b[39m,\u001b[38;5;241m6\u001b[39m,\u001b[38;5;241m4\u001b[39m,\u001b[38;5;241m11\u001b[39m,\u001b[38;5;241m9\u001b[39m,\u001b[38;5;241m5\u001b[39m]\n\u001b[1;32m----> 2\u001b[0m \u001b[43ma1\u001b[49m\u001b[38;5;241;43m.\u001b[39;49m\u001b[43mvalor_repetido\u001b[49m\u001b[43m(\u001b[49m\u001b[43mlista\u001b[49m\u001b[43m)\u001b[49m\n\u001b[0;32m      3\u001b[0m \u001b[38;5;66;03m#print('el número que se repite es el ',num,'y se repite ',veces,'veces')\u001b[39;00m\n",
      "\u001b[1;31mTypeError\u001b[0m: funciones.valor_repetido() takes 1 positional argument but 2 were given"
     ]
    }
   ],
   "source": [
    "lista = [1,1,5,6,8,10,22,5,6,4,11,9,5]\n",
    "a1.valor_repetido(lista)\n",
    "#print('el número que se repite es el ',num,'y se repite ',veces,'veces')"
   ]
  },
  {
   "cell_type": "code",
   "execution_count": 23,
   "metadata": {},
   "outputs": [
    {
     "data": {
      "text/plain": [
       "68.0"
      ]
     },
     "execution_count": 23,
     "metadata": {},
     "output_type": "execute_result"
    }
   ],
   "source": [
    "a1.grados(20,'Celcius','Farenheit')"
   ]
  },
  {
   "cell_type": "code",
   "execution_count": 24,
   "metadata": {},
   "outputs": [
    {
     "data": {
      "text/plain": [
       "120"
      ]
     },
     "execution_count": 24,
     "metadata": {},
     "output_type": "execute_result"
    }
   ],
   "source": [
    "a1.factorial(5)"
   ]
  },
  {
   "attachments": {},
   "cell_type": "markdown",
   "metadata": {},
   "source": [
    "7) Es necesario que la clase creada en el punto 5 contenga una lista, sobre la cual se apliquen las funciones incorporadas"
   ]
  },
  {
   "cell_type": "code",
   "execution_count": 61,
   "metadata": {},
   "outputs": [],
   "source": [
    "class funciones():\n",
    "    def __init__(self, lista_num):\n",
    "        self.lista= lista_num \n",
    "        \n",
    "    def verifica_primo(self):\n",
    "        for i in self.lista:\n",
    "            if (self.__verifica_primo(i)):\n",
    "               print('el elemento',i, ' es un número primo')\n",
    "            else:\n",
    "               print('el elemento',i,'no es primo')\n",
    "            \n",
    "    def grados(self,origen, destino):\n",
    "        for i in self.lista:\n",
    "            print(i,'grados','son',origen,self.__grados(i,origen,destino),'grados',destino)\n",
    "            \n",
    "    def factorial(self):\n",
    "        for i in self.lista:\n",
    "            print('el factortial de ',i,'es',self.__factorial(i))\n",
    "        \n",
    "    \n",
    "    def __verifica_primo(self, numero):\n",
    "        es_primo=True\n",
    "        for i in range(2,numero):\n",
    "            if numero%i ==0:\n",
    "              es_primo=False\n",
    "            break   \n",
    "        return es_primo\n",
    "    \n",
    "    def valor_repetido(self,bajo):\n",
    "        lista_unicos = []\n",
    "        lista_repeticiones = []\n",
    "        if len(self.lista) == 0:\n",
    "            return None\n",
    "        if(bajo):\n",
    "            self.lista.sort()\n",
    "        else:\n",
    "            self.lista.sort(reverse=True)\n",
    "        for elemento in self.lista:\n",
    "            if elemento in lista_unicos:\n",
    "               i = lista_unicos.index(elemento)\n",
    "               lista_repeticiones[i] += 1\n",
    "            else:\n",
    "               lista_unicos.append(elemento)\n",
    "               lista_repeticiones.append(1)\n",
    "        moda = lista_unicos[0]\n",
    "        maximo = lista_repeticiones[0]\n",
    "        for i, elemento in enumerate(lista_unicos):\n",
    "            if lista_repeticiones[i] > maximo:\n",
    "               moda = lista_unicos[i]\n",
    "               maximo = lista_repeticiones[i]\n",
    "        return moda, maximo\n",
    "    \n",
    "    def __grados (self,numero,tipo1,tipo2):\n",
    "        if tipo1 == 'Celcius':\n",
    "           if tipo2== 'Celcius':\n",
    "            valor=numero\n",
    "           elif tipo2=='Farenheit':\n",
    "            valor =(numero*9/5)+32\n",
    "           elif tipo2=='Kelvin':\n",
    "            valor=numero+273.5\n",
    "           else:\n",
    "               ('No se reconoce el valor tipo2')\n",
    "        elif tipo1 == 'Farenheit':\n",
    "            if tipo2== 'Celcius':\n",
    "               valor=(numero-32)*5/9\n",
    "            elif tipo2=='Farenheit':\n",
    "               valor =numero\n",
    "            elif tipo2=='Kelvin':\n",
    "              valor=((numero-32)*5/9)+273.5\n",
    "            else:\n",
    "               ('No se reconoce el valor tipo2')\n",
    "        elif tipo1 == 'Kelvin':\n",
    "            if tipo2== 'Celcius':\n",
    "              valor=numero-273.5\n",
    "            elif tipo2=='Farenheit':\n",
    "              valor =((numero-273.5)*9/5)+32\n",
    "            elif tipo2=='Kelvin':\n",
    "              valor=numero\n",
    "            else:\n",
    "               ('No se reconoce el valor tipo2')\n",
    "        else:\n",
    "            ('No se reconoce el valor tipo1') \n",
    "        return  valor\n",
    "    \n",
    "    def __factorial(self,numero):\n",
    "        while numero <=0:\n",
    "            print(' No se puede operar con el número ingresado')\n",
    "            break\n",
    "        if numero>1:\n",
    "             numero=numero*self.factorial(numero-1)\n",
    "        return numero\n",
    "        \n",
    "        "
   ]
  },
  {
   "cell_type": "code",
   "execution_count": 62,
   "metadata": {},
   "outputs": [],
   "source": [
    "a1=funciones([1,2,3,4,5,6,6])"
   ]
  },
  {
   "cell_type": "code",
   "execution_count": 63,
   "metadata": {},
   "outputs": [
    {
     "name": "stdout",
     "output_type": "stream",
     "text": [
      "el elemento 1  es un número primo\n",
      "el elemento 2  es un número primo\n",
      "el elemento 3  es un número primo\n",
      "el elemento 4 no es primo\n",
      "el elemento 5  es un número primo\n",
      "el elemento 6 no es primo\n",
      "el elemento 6 no es primo\n"
     ]
    }
   ],
   "source": [
    "a1.verifica_primo()"
   ]
  },
  {
   "cell_type": "code",
   "execution_count": 64,
   "metadata": {},
   "outputs": [
    {
     "name": "stdout",
     "output_type": "stream",
     "text": [
      "el número que más se repite es 6 y se repite 2\n"
     ]
    }
   ],
   "source": [
    "mod,rep=a1.valor_repetido(False)\n",
    "print('el número que más se repite es',mod, 'y se repite',rep)"
   ]
  },
  {
   "attachments": {},
   "cell_type": "markdown",
   "metadata": {},
   "source": [
    "8) Crear un archivo .py aparte y ubicar allí la clase generada en el punto anterior. Luego realizar la importación del módulo y probar alguna de sus funciones"
   ]
  },
  {
   "cell_type": "code",
   "execution_count": 75,
   "metadata": {},
   "outputs": [],
   "source": [
    "from funciones import *"
   ]
  },
  {
   "cell_type": "code",
   "execution_count": 76,
   "metadata": {},
   "outputs": [],
   "source": [
    "a2= funciones([1,1,1,2,2,4,4,5,5,9,9,9,9])"
   ]
  },
  {
   "cell_type": "code",
   "execution_count": 77,
   "metadata": {},
   "outputs": [
    {
     "ename": "TypeError",
     "evalue": "funciones.verifica_primo() missing 1 required positional argument: 'numero'",
     "output_type": "error",
     "traceback": [
      "\u001b[1;31m---------------------------------------------------------------------------\u001b[0m",
      "\u001b[1;31mTypeError\u001b[0m                                 Traceback (most recent call last)",
      "Cell \u001b[1;32mIn[77], line 1\u001b[0m\n\u001b[1;32m----> 1\u001b[0m \u001b[43ma2\u001b[49m\u001b[38;5;241;43m.\u001b[39;49m\u001b[43mverifica_primo\u001b[49m\u001b[43m(\u001b[49m\u001b[43m)\u001b[49m\n",
      "\u001b[1;31mTypeError\u001b[0m: funciones.verifica_primo() missing 1 required positional argument: 'numero'"
     ]
    }
   ],
   "source": [
    "a2.verifica_primo()"
   ]
  },
  {
   "cell_type": "code",
   "execution_count": 78,
   "metadata": {},
   "outputs": [
    {
     "ename": "TypeError",
     "evalue": "funciones.factorial() missing 1 required positional argument: 'numero'",
     "output_type": "error",
     "traceback": [
      "\u001b[1;31m---------------------------------------------------------------------------\u001b[0m",
      "\u001b[1;31mTypeError\u001b[0m                                 Traceback (most recent call last)",
      "Cell \u001b[1;32mIn[78], line 1\u001b[0m\n\u001b[1;32m----> 1\u001b[0m \u001b[43ma2\u001b[49m\u001b[38;5;241;43m.\u001b[39;49m\u001b[43mfactorial\u001b[49m\u001b[43m(\u001b[49m\u001b[43m)\u001b[49m\n",
      "\u001b[1;31mTypeError\u001b[0m: funciones.factorial() missing 1 required positional argument: 'numero'"
     ]
    }
   ],
   "source": [
    "a2.factorial()"
   ]
  }
 ],
 "metadata": {
  "interpreter": {
   "hash": "c85384e4cb51c8b72350f3a8712cc8351fdc3955e32a27f9b60c6242ab125f01"
  },
  "kernelspec": {
   "display_name": "Python 3 (ipykernel)",
   "language": "python",
   "name": "python3"
  },
  "language_info": {
   "codemirror_mode": {
    "name": "ipython",
    "version": 3
   },
   "file_extension": ".py",
   "mimetype": "text/x-python",
   "name": "python",
   "nbconvert_exporter": "python",
   "pygments_lexer": "ipython3",
   "version": "3.11.6"
  }
 },
 "nbformat": 4,
 "nbformat_minor": 4
}

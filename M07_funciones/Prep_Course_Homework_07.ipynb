{
 "cells": [
  {
   "attachments": {},
   "cell_type": "markdown",
   "metadata": {},
   "source": [
    "## Funciones"
   ]
  },
  {
   "attachments": {},
   "cell_type": "markdown",
   "metadata": {},
   "source": [
    "1) Crear una función que reciba un número como parámetro y devuelva True si es primo y False si no lo es"
   ]
  },
  {
   "cell_type": "code",
   "execution_count": 40,
   "metadata": {},
   "outputs": [],
   "source": [
    "def primo(numero):\n",
    "    es_primo=True\n",
    "    for i in range(2,numero):\n",
    "      if numero%i ==0:\n",
    "        es_primo=False\n",
    "        break   \n",
    "    return es_primo \n"
   ]
  },
  {
   "cell_type": "code",
   "execution_count": 42,
   "metadata": {},
   "outputs": [
    {
     "data": {
      "text/plain": [
       "False"
      ]
     },
     "execution_count": 42,
     "metadata": {},
     "output_type": "execute_result"
    }
   ],
   "source": [
    "primo(12\n",
    "      )"
   ]
  },
  {
   "attachments": {},
   "cell_type": "markdown",
   "metadata": {},
   "source": [
    "2) Utilizando la función del punto 1, realizar otra función que reciba de parámetro una lista de números y devuelva sólo aquellos que son primos en otra lista"
   ]
  },
  {
   "cell_type": "code",
   "execution_count": 43,
   "metadata": {},
   "outputs": [],
   "source": [
    "listac=[1,2,3,4,5,6,7,8,9,10,11]\n",
    "def imprime_primo(lista):\n",
    "    lista_primo=[]\n",
    "    for elemento in lista:\n",
    "     if primo(int(elemento)):\n",
    "       lista_primo.append(elemento)\n",
    "    return lista_primo\n",
    "    "
   ]
  },
  {
   "cell_type": "code",
   "execution_count": 44,
   "metadata": {},
   "outputs": [
    {
     "data": {
      "text/plain": [
       "[1, 2, 3, 5, 7, 11]"
      ]
     },
     "execution_count": 44,
     "metadata": {},
     "output_type": "execute_result"
    }
   ],
   "source": [
    "imprime_primo(listac)"
   ]
  },
  {
   "attachments": {},
   "cell_type": "markdown",
   "metadata": {},
   "source": [
    "3) Crear una función que al recibir una lista de números, devuelva el que más se repite y cuántas veces lo hace. Si hay más de un \"más repetido\", que devuelva cualquiera"
   ]
  },
  {
   "cell_type": "code",
   "execution_count": 9,
   "metadata": {},
   "outputs": [],
   "source": [
    "def valor_repetido(lista):\n",
    "    lista_unicos = []\n",
    "    lista_repeticiones = []\n",
    "    if len(lista) == 0:\n",
    "        return None\n",
    "    for elemento in lista:\n",
    "        if elemento in lista_unicos:\n",
    "            i = lista_unicos.index(elemento)\n",
    "            lista_repeticiones[i] += 1\n",
    "        else:\n",
    "            lista_unicos.append(elemento)\n",
    "            lista_repeticiones.append(1)\n",
    "    moda = lista_unicos[0]\n",
    "    maximo = lista_repeticiones[0]\n",
    "    for i, elemento in enumerate(lista_unicos):\n",
    "        if lista_repeticiones[i] > maximo:\n",
    "            moda = lista_unicos[i]\n",
    "            maximo = lista_repeticiones[i]\n",
    "    return moda, maximo"
   ]
  },
  {
   "cell_type": "code",
   "execution_count": 10,
   "metadata": {},
   "outputs": [],
   "source": [
    "lis = [1,1,5,6,8,10,22,5,6,4,11,9,5]"
   ]
  },
  {
   "cell_type": "code",
   "execution_count": 12,
   "metadata": {},
   "outputs": [
    {
     "data": {
      "text/plain": [
       "(5, 3)"
      ]
     },
     "execution_count": 12,
     "metadata": {},
     "output_type": "execute_result"
    }
   ],
   "source": [
    "valor_repetido(lis)"
   ]
  },
  {
   "attachments": {},
   "cell_type": "markdown",
   "metadata": {},
   "source": [
    "4) Crear una función que convierta entre grados Celsius, Farenheit y Kelvin<br>\n",
    "Fórmula 1\t: (°C × 9/5) + 32 = °F<br>\n",
    "Fórmula 2\t: °C + 273.15 = °K<br>\n",
    "Debe recibir 3 parámetros: el valor, la medida de orígen y la medida de destino\n"
   ]
  },
  {
   "cell_type": "code",
   "execution_count": 61,
   "metadata": {},
   "outputs": [],
   "source": [
    "def grados (numero,tipo1,tipo2):\n",
    "    if tipo1 == 'Celcius':\n",
    "        if tipo2== 'Celcius':\n",
    "            valor=numero\n",
    "        elif tipo2=='Farenheit':\n",
    "            valor =(numero*9/5)+32\n",
    "        elif tipo2=='Kelvin':\n",
    "            valor=numero+273.5\n",
    "        else:\n",
    "            ('No se reconoce el valor tipo2')\n",
    "    elif tipo1 == 'Farenheit':\n",
    "        if tipo2== 'Celcius':\n",
    "            valor=(numero-32)*5/9\n",
    "        elif tipo2=='Farenheit':\n",
    "            valor =numero\n",
    "        elif tipo2=='Kelvin':\n",
    "            valor=((numero-32)*5/9)+273.5\n",
    "        else:\n",
    "            ('No se reconoce el valor tipo2')\n",
    "    elif tipo1 == 'Kelvin':\n",
    "        if tipo2== 'Celcius':\n",
    "            valor=numero-273.5\n",
    "        elif tipo2=='Farenheit':\n",
    "            valor =((numero-273.5)*9/5)+32\n",
    "        elif tipo2=='Kelvin':\n",
    "            valor=numero\n",
    "        else:\n",
    "            ('No se reconoce el valor tipo2')\n",
    "    else:\n",
    "        ('No se reconoce el valor tipo1') \n",
    "    return  valor\n",
    "        "
   ]
  },
  {
   "cell_type": "code",
   "execution_count": 62,
   "metadata": {},
   "outputs": [
    {
     "data": {
      "text/plain": [
       "-458.5"
      ]
     },
     "execution_count": 62,
     "metadata": {},
     "output_type": "execute_result"
    }
   ],
   "source": [
    "grados (1,'Kelvin','Farenheit')"
   ]
  },
  {
   "attachments": {},
   "cell_type": "markdown",
   "metadata": {},
   "source": [
    "5) Iterando una lista con los tres valores posibles de temperatura que recibe la función del punto 5, hacer un print para cada combinación de los mismos:"
   ]
  },
  {
   "cell_type": "code",
   "execution_count": 63,
   "metadata": {},
   "outputs": [
    {
     "name": "stdout",
     "output_type": "stream",
     "text": [
      "1 grado Celcius a Celcius : 1\n",
      "1 grado Celcius a Kelvin : 274.5\n",
      "1 grado Celcius a Farenheit : 33.8\n",
      "1 grado Kelvin a Celcius : -272.5\n",
      "1 grado Kelvin a Kelvin : 1\n",
      "1 grado Kelvin a Farenheit : -458.5\n",
      "1 grado Farenheit a Celcius : -17.22222222222222\n",
      "1 grado Farenheit a Kelvin : 256.27777777777777\n",
      "1 grado Farenheit a Farenheit : 1\n"
     ]
    }
   ],
   "source": [
    "medidas=['Celcius','Kelvin','Farenheit']\n",
    "for i in range(0,3):\n",
    "    for a in range (0,3):\n",
    "     print('1 grado',medidas[i], 'a',medidas[a],':', grados(1,medidas[i],medidas[a]))"
   ]
  },
  {
   "attachments": {},
   "cell_type": "markdown",
   "metadata": {},
   "source": [
    "6) Armar una función que devuelva el factorial de un número. Tener en cuenta que el usuario puede equivocarse y enviar de parámetro un número no entero o negativo"
   ]
  },
  {
   "cell_type": "code",
   "execution_count": 3,
   "metadata": {},
   "outputs": [],
   "source": [
    "def factorial(numero):\n",
    "     while numero <=0:\n",
    "         print(' No se puede operar con el número ingresado')\n",
    "         break\n",
    "     if numero>1:\n",
    "             numero=numero*factorial(numero-1)\n",
    "     return numero"
   ]
  },
  {
   "cell_type": "code",
   "execution_count": 6,
   "metadata": {},
   "outputs": [
    {
     "name": "stdout",
     "output_type": "stream",
     "text": [
      " No se puede operar con el número ingresado\n",
      "0\n"
     ]
    }
   ],
   "source": [
    "print(factorial(0))"
   ]
  }
 ],
 "metadata": {
  "interpreter": {
   "hash": "c85384e4cb51c8b72350f3a8712cc8351fdc3955e32a27f9b60c6242ab125f01"
  },
  "kernelspec": {
   "display_name": "Python 3 (ipykernel)",
   "language": "python",
   "name": "python3"
  },
  "language_info": {
   "codemirror_mode": {
    "name": "ipython",
    "version": 3
   },
   "file_extension": ".py",
   "mimetype": "text/x-python",
   "name": "python",
   "nbconvert_exporter": "python",
   "pygments_lexer": "ipython3",
   "version": "3.11.6"
  }
 },
 "nbformat": 4,
 "nbformat_minor": 4
}

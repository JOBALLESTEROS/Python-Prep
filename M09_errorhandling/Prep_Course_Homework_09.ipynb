{
 "cells": [
  {
   "attachments": {},
   "cell_type": "markdown",
   "metadata": {},
   "source": [
    "## Manejo de errores"
   ]
  },
  {
   "attachments": {},
   "cell_type": "markdown",
   "metadata": {},
   "source": [
    "1) Con la clase creada en el módulo 7, tener en cuenta diferentes casos en que el código pudiera arrojar error. Por ejemplo, en la creación del objeto recibimos una lista de números enteros pero ¿qué pasa si se envía otro tipo de dato?"
   ]
  },
  {
   "cell_type": "code",
   "execution_count": 80,
   "metadata": {},
   "outputs": [
    {
     "name": "stdout",
     "output_type": "stream",
     "text": [
      "['c:\\\\Users\\\\angel\\\\Desktop\\\\Python-Prep\\\\M09_errorhandling', 'c:\\\\Users\\\\angel\\\\AppData\\\\Local\\\\Programs\\\\Python\\\\Python311\\\\python311.zip', 'c:\\\\Users\\\\angel\\\\AppData\\\\Local\\\\Programs\\\\Python\\\\Python311\\\\DLLs', 'c:\\\\Users\\\\angel\\\\AppData\\\\Local\\\\Programs\\\\Python\\\\Python311\\\\Lib', 'c:\\\\Users\\\\angel\\\\AppData\\\\Local\\\\Programs\\\\Python\\\\Python311', '', 'C:\\\\Users\\\\angel\\\\AppData\\\\Roaming\\\\Python\\\\Python311\\\\site-packages', 'C:\\\\Users\\\\angel\\\\AppData\\\\Roaming\\\\Python\\\\Python311\\\\site-packages\\\\win32', 'C:\\\\Users\\\\angel\\\\AppData\\\\Roaming\\\\Python\\\\Python311\\\\site-packages\\\\win32\\\\lib', 'C:\\\\Users\\\\angel\\\\AppData\\\\Roaming\\\\Python\\\\Python311\\\\site-packages\\\\Pythonwin', 'c:\\\\Users\\\\angel\\\\AppData\\\\Local\\\\Programs\\\\Python\\\\Python311\\\\Lib\\\\site-packages', 'C:\\\\Users\\\\angel\\\\Desktop\\\\Python-Prep\\\\M09_errorhandling\\\\nuevo_funciones.py', 'C:\\\\Users\\\\angel\\\\Desktop\\\\Python-Prep\\\\M09_errorhandling\\\\nuevo_funciones.py', 'C:\\\\Users\\\\angel\\\\Desktop\\\\Python-Prep\\\\M09_errorhandling\\\\nuevo_funciones.py', 'C:\\\\Users\\\\angel\\\\Desktop\\\\Python-Prep\\\\M09_errorhandling\\\\nuevo_funciones.py', 'C:\\\\Users\\\\angel\\\\Desktop\\\\Python-Prep\\\\M09_errorhandling\\\\nuevo_funciones.py', 'C:\\\\Users\\\\angel\\\\Desktop\\\\Python-Prep\\\\M09_errorhandling\\\\nuevo_funciones.py', 'C:\\\\Users\\\\angel\\\\Desktop\\\\Python-Prep\\\\M09_errorhandling\\\\nuevo_funciones.py']\n"
     ]
    }
   ],
   "source": [
    "import sys\n",
    "sys.path.append(r'C:\\Users\\angel\\Desktop\\Python-Prep\\M09_errorhandling\\nuevo_funciones.py')\n",
    "print(sys.path)"
   ]
  },
  {
   "cell_type": "code",
   "execution_count": 81,
   "metadata": {},
   "outputs": [],
   "source": [
    "import nuevo_funciones as fx"
   ]
  },
  {
   "cell_type": "code",
   "execution_count": 82,
   "metadata": {},
   "outputs": [
    {
     "ename": "ValueError",
     "evalue": "Se ha creado una lista vacía. Se esperaba una lista de números enteros",
     "output_type": "error",
     "traceback": [
      "\u001b[1;31m---------------------------------------------------------------------------\u001b[0m",
      "\u001b[1;31mValueError\u001b[0m                                Traceback (most recent call last)",
      "Cell \u001b[1;32mIn[82], line 1\u001b[0m\n\u001b[1;32m----> 1\u001b[0m a1\u001b[38;5;241m=\u001b[39m\u001b[43mfx\u001b[49m\u001b[38;5;241;43m.\u001b[39;49m\u001b[43mfunciones\u001b[49m\u001b[43m(\u001b[49m\u001b[38;5;124;43m'\u001b[39;49m\u001b[38;5;124;43mhola como estas\u001b[39;49m\u001b[38;5;124;43m'\u001b[39;49m\u001b[43m)\u001b[49m\n",
      "File \u001b[1;32mc:\\Users\\angel\\Desktop\\Python-Prep\\M09_errorhandling\\nuevo_funciones.py:5\u001b[0m, in \u001b[0;36m__init__\u001b[1;34m(self, lista_numeros)\u001b[0m\n\u001b[0;32m      3\u001b[0m if (type(lista_numeros) != list):\n\u001b[0;32m      4\u001b[0m     self.lista = []\n\u001b[1;32m----> 5\u001b[0m     raise ValueError('Se ha creado una lista vacía. Se esperaba una lista de números enteros')  \n\u001b[0;32m      6\u001b[0m else:\n\u001b[0;32m      7\u001b[0m     self.lista = lista_numeros\n",
      "\u001b[1;31mValueError\u001b[0m: Se ha creado una lista vacía. Se esperaba una lista de números enteros"
     ]
    }
   ],
   "source": [
    "a1=fx.funciones('hola como estas')"
   ]
  },
  {
   "attachments": {},
   "cell_type": "markdown",
   "metadata": {},
   "source": [
    "2) En la función que hace la conversión de grados, validar que los parámetros enviados sean los esperados, de no serlo, informar cuáles son los valores esperados."
   ]
  },
  {
   "cell_type": "code",
   "execution_count": 87,
   "metadata": {},
   "outputs": [
    {
     "data": {
      "text/plain": [
       "<module 'nuevo_funciones' from 'c:\\\\Users\\\\angel\\\\Desktop\\\\Python-Prep\\\\M09_errorhandling\\\\nuevo_funciones.py'>"
      ]
     },
     "execution_count": 87,
     "metadata": {},
     "output_type": "execute_result"
    }
   ],
   "source": [
    "import importlib\n",
    "importlib.reload(fx)"
   ]
  },
  {
   "cell_type": "code",
   "execution_count": 67,
   "metadata": {},
   "outputs": [],
   "source": [
    "a2=fx.funciones([1,2,3,4,5])"
   ]
  },
  {
   "cell_type": "code",
   "execution_count": 68,
   "metadata": {},
   "outputs": [
    {
     "name": "stdout",
     "output_type": "stream",
     "text": [
      "Los parametros esperados deben ser  ['Celcius', 'Farenheit', 'Kelvin']\n"
     ]
    },
    {
     "data": {
      "text/plain": [
       "[]"
      ]
     },
     "execution_count": 68,
     "metadata": {},
     "output_type": "execute_result"
    }
   ],
   "source": [
    "a2.grados(10,12)"
   ]
  },
  {
   "cell_type": "code",
   "execution_count": 69,
   "metadata": {},
   "outputs": [
    {
     "data": {
      "text/plain": [
       "[33.8]"
      ]
     },
     "execution_count": 69,
     "metadata": {},
     "output_type": "execute_result"
    }
   ],
   "source": [
    "a2.grados('Celcius','Farenheit')"
   ]
  },
  {
   "attachments": {},
   "cell_type": "markdown",
   "metadata": {},
   "source": [
    "3) Importar el modulo \"unittest\" y crear los siguientes casos de pruebas sobre la clase utilizada en el punto 2<br>\n",
    "Creacion del objeto incorrecta<br>\n",
    "Creacion correcta del objeto<br>\n",
    "Metodo valor_modal()<br>\n",
    "\n",
    "Se puede usar \"raise ValueError()\" en la creación de la clase para verificar el error. Investigar sobre esta funcionalidad."
   ]
  },
  {
   "cell_type": "code",
   "execution_count": 70,
   "metadata": {},
   "outputs": [],
   "source": [
    "import unittest"
   ]
  },
  {
   "cell_type": "code",
   "execution_count": 71,
   "metadata": {},
   "outputs": [],
   "source": [
    "class ValidandoLaClase(unittest.TestCase):\n",
    "    \n",
    "    def test_objeto_incorrecto(self):\n",
    "        parametro='Como estas'\n",
    "        self.assertRaises(ValueError,fx.funciones,parametro)\n",
    "        \n",
    "    def test_objeto_correcto(self):\n",
    "        parametro=[1,2,3,4,5]\n",
    "        a2=fx.funciones(parametro)\n",
    "        self.assertEqual(a2.lista,parametro)\n",
    "        \n",
    "    def test_valor_repetido(self):\n",
    "        lista=[1,2,1,8]\n",
    "        a2=fx.funciones(lista)\n",
    "        moda,veces = a2.valor_repetido(False)\n",
    "        moda=[moda]\n",
    "        moda.append(veces)\n",
    "        respuesta=[1,2]\n",
    "        self.assertEqual(moda,respuesta)\n",
    "        \n",
    "        "
   ]
  },
  {
   "cell_type": "code",
   "execution_count": 72,
   "metadata": {},
   "outputs": [
    {
     "name": "stderr",
     "output_type": "stream",
     "text": [
      "test_objeto_correcto (__main__.ValidandoLaClase.test_objeto_correcto) ... ok\n",
      "test_objeto_incorrecto (__main__.ValidandoLaClase.test_objeto_incorrecto) ... ok\n",
      "test_valor_repetido (__main__.ValidandoLaClase.test_valor_repetido) ... ok\n",
      "test_verifica_primos1 (__main__.ValidandoLaClase2.test_verifica_primos1) ... FAIL\n",
      "test_grados1 (__main__.ValidandoLaClase3.test_grados1) ... FAIL\n",
      "\n",
      "======================================================================\n",
      "FAIL: test_verifica_primos1 (__main__.ValidandoLaClase2.test_verifica_primos1)\n",
      "----------------------------------------------------------------------\n",
      "Traceback (most recent call last):\n",
      "  File \"C:\\Users\\angel\\AppData\\Local\\Temp\\ipykernel_19896\\3854636770.py\", line 8, in test_verifica_primos1\n",
      "    self.assertEqual(primo,primo_esperado)\n",
      "AssertionError: None != [True, True, False, False, True]\n",
      "\n",
      "======================================================================\n",
      "FAIL: test_grados1 (__main__.ValidandoLaClase3.test_grados1)\n",
      "----------------------------------------------------------------------\n",
      "Traceback (most recent call last):\n",
      "  File \"C:\\Users\\angel\\AppData\\Local\\Temp\\ipykernel_19896\\3884810159.py\", line 7, in test_grados1\n",
      "    self.assertEqual(grados,grados_esperados)\n",
      "AssertionError: Lists differ: [274.5] != [274.5, 275.5, 277.5, 281.5, 273.5]\n",
      "\n",
      "Second list contains 4 additional elements.\n",
      "First extra element 1:\n",
      "275.5\n",
      "\n",
      "- [274.5]\n",
      "+ [274.5, 275.5, 277.5, 281.5, 273.5]\n",
      "\n",
      "----------------------------------------------------------------------\n",
      "Ran 5 tests in 0.022s\n",
      "\n",
      "FAILED (failures=2)\n"
     ]
    },
    {
     "data": {
      "text/plain": [
       "<unittest.main.TestProgram at 0x24d5b020110>"
      ]
     },
     "execution_count": 72,
     "metadata": {},
     "output_type": "execute_result"
    }
   ],
   "source": [
    "unittest.main(argv=[\"\"],verbosity=2,exit=False)"
   ]
  },
  {
   "attachments": {},
   "cell_type": "markdown",
   "metadata": {},
   "source": [
    "4) Probar una creación incorrecta y visualizar la salida del \"raise\""
   ]
  },
  {
   "cell_type": "code",
   "execution_count": 73,
   "metadata": {},
   "outputs": [
    {
     "ename": "ValueError",
     "evalue": "Se ha creado una lista vacía. Se esperaba una lista de números enteros",
     "output_type": "error",
     "traceback": [
      "\u001b[1;31m---------------------------------------------------------------------------\u001b[0m",
      "\u001b[1;31mValueError\u001b[0m                                Traceback (most recent call last)",
      "Cell \u001b[1;32mIn[73], line 1\u001b[0m\n\u001b[1;32m----> 1\u001b[0m a2\u001b[38;5;241m=\u001b[39m\u001b[43mfx\u001b[49m\u001b[38;5;241;43m.\u001b[39;49m\u001b[43mfunciones\u001b[49m\u001b[43m(\u001b[49m\u001b[38;5;124;43m'\u001b[39;49m\u001b[38;5;124;43mSaludo\u001b[39;49m\u001b[38;5;124;43m'\u001b[39;49m\u001b[43m)\u001b[49m\n",
      "File \u001b[1;32mc:\\Users\\angel\\Desktop\\Python-Prep\\M09_errorhandling\\nuevo_funciones.py:5\u001b[0m, in \u001b[0;36mfunciones.__init__\u001b[1;34m(self, lista_numeros)\u001b[0m\n\u001b[0;32m      3\u001b[0m \u001b[38;5;28;01mif\u001b[39;00m (\u001b[38;5;28mtype\u001b[39m(lista_numeros) \u001b[38;5;241m!=\u001b[39m \u001b[38;5;28mlist\u001b[39m):\n\u001b[0;32m      4\u001b[0m     \u001b[38;5;28mself\u001b[39m\u001b[38;5;241m.\u001b[39mlista \u001b[38;5;241m=\u001b[39m []\n\u001b[1;32m----> 5\u001b[0m     \u001b[38;5;28;01mraise\u001b[39;00m \u001b[38;5;167;01mValueError\u001b[39;00m(\u001b[38;5;124m'\u001b[39m\u001b[38;5;124mSe ha creado una lista vacía. Se esperaba una lista de números enteros\u001b[39m\u001b[38;5;124m'\u001b[39m)  \n\u001b[0;32m      6\u001b[0m \u001b[38;5;28;01melse\u001b[39;00m:\n\u001b[0;32m      7\u001b[0m     \u001b[38;5;28mself\u001b[39m\u001b[38;5;241m.\u001b[39mlista \u001b[38;5;241m=\u001b[39m lista_numeros\n",
      "\u001b[1;31mValueError\u001b[0m: Se ha creado una lista vacía. Se esperaba una lista de números enteros"
     ]
    }
   ],
   "source": [
    "a2=fx.funciones('Saludo')"
   ]
  },
  {
   "attachments": {},
   "cell_type": "markdown",
   "metadata": {},
   "source": [
    "6) Agregar casos de pruebas para el método verifica_primos() realizando el cambio en la clase, para que devuelva una lista de True o False en función de que el elemento en la posisicón sea o no primo"
   ]
  },
  {
   "cell_type": "code",
   "execution_count": 74,
   "metadata": {},
   "outputs": [],
   "source": [
    "class ValidandoLaClase2(unittest.TestCase):\n",
    "    \n",
    "    def test_verifica_primos1(self):\n",
    "        lista=[2,3,8,10,13]\n",
    "        a2=fx.funciones(lista)\n",
    "        primo=a2.verifica_primo()\n",
    "        primo_esperado=[True, True, False, False, True]\n",
    "        self.assertEqual(primo,primo_esperado)\n",
    "        "
   ]
  },
  {
   "cell_type": "code",
   "execution_count": 75,
   "metadata": {},
   "outputs": [
    {
     "data": {
      "text/plain": [
       "<module 'nuevo_funciones' from 'c:\\\\Users\\\\angel\\\\Desktop\\\\Python-Prep\\\\M09_errorhandling\\\\nuevo_funciones.py'>"
      ]
     },
     "execution_count": 75,
     "metadata": {},
     "output_type": "execute_result"
    }
   ],
   "source": [
    "importlib.reload(fx)"
   ]
  },
  {
   "cell_type": "code",
   "execution_count": 84,
   "metadata": {},
   "outputs": [
    {
     "name": "stderr",
     "output_type": "stream",
     "text": [
      "test_objeto_correcto (__main__.ValidandoLaClase.test_objeto_correcto) ... ok\n",
      "test_objeto_incorrecto (__main__.ValidandoLaClase.test_objeto_incorrecto) ... ok\n",
      "test_valor_repetido (__main__.ValidandoLaClase.test_valor_repetido) ... ok\n",
      "test_verifica_primos1 (__main__.ValidandoLaClase2.test_verifica_primos1) ... FAIL\n",
      "test_grados1 (__main__.ValidandoLaClase3.test_grados1) ... FAIL\n",
      "\n",
      "======================================================================\n",
      "FAIL: test_verifica_primos1 (__main__.ValidandoLaClase2.test_verifica_primos1)\n",
      "----------------------------------------------------------------------\n",
      "Traceback (most recent call last):\n",
      "  File \"C:\\Users\\angel\\AppData\\Local\\Temp\\ipykernel_19896\\3854636770.py\", line 8, in test_verifica_primos1\n",
      "    self.assertEqual(primo,primo_esperado)\n",
      "AssertionError: None != [True, True, False, False, True]\n",
      "\n",
      "======================================================================\n",
      "FAIL: test_grados1 (__main__.ValidandoLaClase3.test_grados1)\n",
      "----------------------------------------------------------------------\n",
      "Traceback (most recent call last):\n",
      "  File \"C:\\Users\\angel\\AppData\\Local\\Temp\\ipykernel_19896\\3884810159.py\", line 7, in test_grados1\n",
      "    self.assertEqual(grados,grados_esperados)\n",
      "AssertionError: Lists differ: [274.5] != [274.5, 275.5, 277.5, 281.5, 273.5]\n",
      "\n",
      "Second list contains 4 additional elements.\n",
      "First extra element 1:\n",
      "275.5\n",
      "\n",
      "- [274.5]\n",
      "+ [274.5, 275.5, 277.5, 281.5, 273.5]\n",
      "\n",
      "----------------------------------------------------------------------\n",
      "Ran 5 tests in 0.025s\n",
      "\n",
      "FAILED (failures=2)\n"
     ]
    },
    {
     "data": {
      "text/plain": [
       "<unittest.main.TestProgram at 0x24d5aec3cd0>"
      ]
     },
     "execution_count": 84,
     "metadata": {},
     "output_type": "execute_result"
    }
   ],
   "source": [
    "unittest.main(argv=[\"\"],verbosity=2,exit=False)"
   ]
  },
  {
   "attachments": {},
   "cell_type": "markdown",
   "metadata": {},
   "source": [
    "7) Agregar casos de pruebas para el método conversion_grados()"
   ]
  },
  {
   "cell_type": "code",
   "execution_count": 85,
   "metadata": {},
   "outputs": [],
   "source": [
    "class ValidandoLaClase3(unittest.TestCase):\n",
    "    def test_grados1(self):\n",
    "        lista=[1,2,4,8,10]\n",
    "        a2=fx.funciones(lista)\n",
    "        grados=a2.grados('Celcius','Kelvin')\n",
    "        grados_esperados=[274.5,275.5,277.5,281.5,273.5]\n",
    "        self.assertEqual(grados,grados_esperados)"
   ]
  },
  {
   "cell_type": "code",
   "execution_count": 88,
   "metadata": {},
   "outputs": [
    {
     "data": {
      "text/plain": [
       "<module 'nuevo_funciones' from 'c:\\\\Users\\\\angel\\\\Desktop\\\\Python-Prep\\\\M09_errorhandling\\\\nuevo_funciones.py'>"
      ]
     },
     "execution_count": 88,
     "metadata": {},
     "output_type": "execute_result"
    }
   ],
   "source": [
    "importlib.reload(fx)"
   ]
  },
  {
   "cell_type": "code",
   "execution_count": 89,
   "metadata": {},
   "outputs": [
    {
     "name": "stderr",
     "output_type": "stream",
     "text": [
      "test_objeto_correcto (__main__.ValidandoLaClase.test_objeto_correcto) ... ok\n",
      "test_objeto_incorrecto (__main__.ValidandoLaClase.test_objeto_incorrecto) ... ok\n",
      "test_valor_repetido (__main__.ValidandoLaClase.test_valor_repetido) ... ok\n",
      "test_verifica_primos1 (__main__.ValidandoLaClase2.test_verifica_primos1) ... ok\n",
      "test_grados1 (__main__.ValidandoLaClase3.test_grados1) ... FAIL\n",
      "\n",
      "======================================================================\n",
      "FAIL: test_grados1 (__main__.ValidandoLaClase3.test_grados1)\n",
      "----------------------------------------------------------------------\n",
      "Traceback (most recent call last):\n",
      "  File \"C:\\Users\\angel\\AppData\\Local\\Temp\\ipykernel_19896\\3884810159.py\", line 7, in test_grados1\n",
      "    self.assertEqual(grados,grados_esperados)\n",
      "AssertionError: Lists differ: [274.5] != [274.5, 275.5, 277.5, 281.5, 273.5]\n",
      "\n",
      "Second list contains 4 additional elements.\n",
      "First extra element 1:\n",
      "275.5\n",
      "\n",
      "- [274.5]\n",
      "+ [274.5, 275.5, 277.5, 281.5, 273.5]\n",
      "\n",
      "----------------------------------------------------------------------\n",
      "Ran 5 tests in 0.016s\n",
      "\n",
      "FAILED (failures=1)\n"
     ]
    },
    {
     "data": {
      "text/plain": [
       "<unittest.main.TestProgram at 0x24d5ae89110>"
      ]
     },
     "execution_count": 89,
     "metadata": {},
     "output_type": "execute_result"
    }
   ],
   "source": [
    "unittest.main(argv=[\"\"],verbosity=2,exit=False)"
   ]
  },
  {
   "attachments": {},
   "cell_type": "markdown",
   "metadata": {},
   "source": [
    "8) Agregar casos de pruebas para el método factorial()"
   ]
  },
  {
   "cell_type": "code",
   "execution_count": 93,
   "metadata": {},
   "outputs": [],
   "source": [
    "class ValidandoLaClase4(unittest.TestCase):\n",
    "    def test_verifica_factorial(self):\n",
    "        lista=[2,3,5,8]\n",
    "        a2=fx.funciones(lista)\n",
    "        factorial=a2.factorial()\n",
    "        factorial_esperado = [2, 6, 120, 40320]\n",
    "        self.assertEqual(factorial,factorial_esperado)\n",
    "        "
   ]
  },
  {
   "cell_type": "code",
   "execution_count": 94,
   "metadata": {},
   "outputs": [
    {
     "data": {
      "text/plain": [
       "<module 'nuevo_funciones' from 'c:\\\\Users\\\\angel\\\\Desktop\\\\Python-Prep\\\\M09_errorhandling\\\\nuevo_funciones.py'>"
      ]
     },
     "execution_count": 94,
     "metadata": {},
     "output_type": "execute_result"
    }
   ],
   "source": [
    "importlib.reload(fx)"
   ]
  },
  {
   "cell_type": "code",
   "execution_count": 95,
   "metadata": {},
   "outputs": [
    {
     "name": "stderr",
     "output_type": "stream",
     "text": [
      "test_objeto_correcto (__main__.ValidandoLaClase.test_objeto_correcto) ... ok\n",
      "test_objeto_incorrecto (__main__.ValidandoLaClase.test_objeto_incorrecto) ... ok\n",
      "test_valor_repetido (__main__.ValidandoLaClase.test_valor_repetido) ... ok\n",
      "test_verifica_primos1 (__main__.ValidandoLaClase2.test_verifica_primos1) ... ok\n",
      "test_grados1 (__main__.ValidandoLaClase3.test_grados1) ... FAIL\n",
      "test_verifica_factorial (__main__.ValidandoLaClase4.test_verifica_factorial) ... FAIL\n",
      "\n",
      "======================================================================\n",
      "FAIL: test_grados1 (__main__.ValidandoLaClase3.test_grados1)\n",
      "----------------------------------------------------------------------\n",
      "Traceback (most recent call last):\n",
      "  File \"C:\\Users\\angel\\AppData\\Local\\Temp\\ipykernel_19896\\3884810159.py\", line 7, in test_grados1\n",
      "    self.assertEqual(grados,grados_esperados)\n",
      "AssertionError: Lists differ: [274.5] != [274.5, 275.5, 277.5, 281.5, 273.5]\n",
      "\n",
      "Second list contains 4 additional elements.\n",
      "First extra element 1:\n",
      "275.5\n",
      "\n",
      "- [274.5]\n",
      "+ [274.5, 275.5, 277.5, 281.5, 273.5]\n",
      "\n",
      "======================================================================\n",
      "FAIL: test_verifica_factorial (__main__.ValidandoLaClase4.test_verifica_factorial)\n",
      "----------------------------------------------------------------------\n",
      "Traceback (most recent call last):\n",
      "  File \"C:\\Users\\angel\\AppData\\Local\\Temp\\ipykernel_19896\\3567242280.py\", line 7, in test_verifica_factorial\n",
      "    self.assertEqual(factorial,factorial_esperado)\n",
      "AssertionError: Lists differ: [2] != [2, 6, 120, 40320]\n",
      "\n",
      "Second list contains 3 additional elements.\n",
      "First extra element 1:\n",
      "6\n",
      "\n",
      "- [2]\n",
      "+ [2, 6, 120, 40320]\n",
      "\n",
      "----------------------------------------------------------------------\n",
      "Ran 6 tests in 0.020s\n",
      "\n",
      "FAILED (failures=2)\n"
     ]
    },
    {
     "data": {
      "text/plain": [
       "<unittest.main.TestProgram at 0x24d5b034a10>"
      ]
     },
     "execution_count": 95,
     "metadata": {},
     "output_type": "execute_result"
    }
   ],
   "source": [
    "unittest.main(argv=[\"\"],verbosity=2,exit=False)"
   ]
  }
 ],
 "metadata": {
  "interpreter": {
   "hash": "c85384e4cb51c8b72350f3a8712cc8351fdc3955e32a27f9b60c6242ab125f01"
  },
  "kernelspec": {
   "display_name": "Python 3 (ipykernel)",
   "language": "python",
   "name": "python3"
  },
  "language_info": {
   "codemirror_mode": {
    "name": "ipython",
    "version": 3
   },
   "file_extension": ".py",
   "mimetype": "text/x-python",
   "name": "python",
   "nbconvert_exporter": "python",
   "pygments_lexer": "ipython3",
   "version": "3.11.6"
  }
 },
 "nbformat": 4,
 "nbformat_minor": 4
}

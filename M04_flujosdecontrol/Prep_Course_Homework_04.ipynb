{
 "cells": [
  {
   "attachments": {},
   "cell_type": "markdown",
   "metadata": {},
   "source": [
    "## Flujos de Control"
   ]
  },
  {
   "attachments": {},
   "cell_type": "markdown",
   "metadata": {},
   "source": [
    "1) Crear una variable que contenga un elemento del conjunto de números enteros y luego imprimir por pantalla si es mayor o menor a cero"
   ]
  },
  {
   "cell_type": "code",
   "execution_count": 4,
   "metadata": {},
   "outputs": [
    {
     "name": "stdout",
     "output_type": "stream",
     "text": [
      "es mayor\n"
     ]
    }
   ],
   "source": [
    "a = 5\n",
    "if a>0:\n",
    "    print(\"es mayor\")\n",
    "elif a<0:\n",
    "    print(\"2 es menor\")\n",
    "else:print(\"es igual\")"
   ]
  },
  {
   "attachments": {},
   "cell_type": "markdown",
   "metadata": {},
   "source": [
    "2) Crear dos variables y un condicional que informe si son del mismo tipo de dato"
   ]
  },
  {
   "cell_type": "code",
   "execution_count": 5,
   "metadata": {},
   "outputs": [
    {
     "name": "stdout",
     "output_type": "stream",
     "text": [
      "<class 'int'>  Es distinto a <class 'float'>\n"
     ]
    }
   ],
   "source": [
    "a= 5\n",
    "b= 3.5\n",
    "\n",
    "if type(a)== type(b):\n",
    "    print(type (a),\" Es igual a\", type(b))\n",
    "else: print(type (a),\" Es distinto a\", type(b))"
   ]
  },
  {
   "attachments": {},
   "cell_type": "markdown",
   "metadata": {},
   "source": [
    "3) Para los valores enteros del 1 al 20, imprimir por pantalla si es par o impar"
   ]
  },
  {
   "cell_type": "code",
   "execution_count": 8,
   "metadata": {},
   "outputs": [
    {
     "name": "stdout",
     "output_type": "stream",
     "text": [
      "2 es par\n",
      "3 Es impar\n",
      "4 es par\n",
      "5 Es impar\n",
      "6 es par\n",
      "7 Es impar\n",
      "8 es par\n",
      "9 Es impar\n",
      "10 es par\n",
      "11 Es impar\n",
      "12 es par\n",
      "13 Es impar\n",
      "14 es par\n",
      "15 Es impar\n",
      "16 es par\n",
      "17 Es impar\n",
      "18 es par\n",
      "19 Es impar\n",
      "20 es par\n"
     ]
    }
   ],
   "source": [
    "for num in range(1,20):\n",
    "    num= num+1\n",
    "    \n",
    "    if num%2 == 0:\n",
    "        print(num, \"es par\")\n",
    "    else: print(num, \"Es impar\")\n",
    "        "
   ]
  },
  {
   "cell_type": "code",
   "execution_count": 15,
   "metadata": {},
   "outputs": [
    {
     "name": "stdout",
     "output_type": "stream",
     "text": [
      "2 es par\n",
      "3 Es impar\n",
      "4 es par\n",
      "5 Es impar\n",
      "6 es par\n",
      "7 Es impar\n",
      "8 es par\n",
      "9 Es impar\n",
      "10 es par\n",
      "11 Es impar\n",
      "12 es par\n",
      "13 Es impar\n",
      "14 es par\n",
      "15 Es impar\n",
      "16 es par\n",
      "17 Es impar\n",
      "18 es par\n",
      "19 Es impar\n",
      "20 es par\n",
      "21 Es impar\n"
     ]
    }
   ],
   "source": [
    "i=1\n",
    "while i <=20:\n",
    "    i= i+1   \n",
    "    if i%2 == 0:\n",
    "        print(i, \"es par\")\n",
    "    else: print(i, \"Es impar\")\n"
   ]
  },
  {
   "attachments": {},
   "cell_type": "markdown",
   "metadata": {},
   "source": [
    "4) En un ciclo for mostrar para los valores entre 0 y 5 el resultado de elevarlo a la potencia igual a 3"
   ]
  },
  {
   "cell_type": "code",
   "execution_count": 17,
   "metadata": {},
   "outputs": [
    {
     "name": "stdout",
     "output_type": "stream",
     "text": [
      "el valor:  0 Elevado a la 3 es:  0\n",
      "el valor:  1 Elevado a la 3 es:  1\n",
      "el valor:  2 Elevado a la 3 es:  8\n",
      "el valor:  3 Elevado a la 3 es:  27\n",
      "el valor:  4 Elevado a la 3 es:  64\n"
     ]
    },
    {
     "data": {
      "text/plain": [
       "64"
      ]
     },
     "execution_count": 17,
     "metadata": {},
     "output_type": "execute_result"
    }
   ],
   "source": [
    "for i in range (0,5):\n",
    "    print(\"el valor: \",i,\"Elevado a la 3 es: \",i**3)\n",
    "\n"
   ]
  },
  {
   "attachments": {},
   "cell_type": "markdown",
   "metadata": {},
   "source": [
    "5) Crear una variable que contenga un número entero y realizar un ciclo for la misma cantidad de ciclos"
   ]
  },
  {
   "cell_type": "code",
   "execution_count": 23,
   "metadata": {},
   "outputs": [
    {
     "name": "stdout",
     "output_type": "stream",
     "text": [
      "0\n",
      "1\n",
      "2\n",
      "3\n",
      "4\n"
     ]
    }
   ],
   "source": [
    "a=5\n",
    "for i in range(0,a):\n",
    "   print(i)\n",
    "\n",
    "   "
   ]
  },
  {
   "attachments": {},
   "cell_type": "markdown",
   "metadata": {},
   "source": [
    "6) Utilizar un ciclo while para realizar el factorial de un número guardado en una variable, sólo si la variable contiene un número entero mayor a 0"
   ]
  },
  {
   "cell_type": "code",
   "execution_count": 32,
   "metadata": {},
   "outputs": [
    {
     "name": "stdout",
     "output_type": "stream",
     "text": [
      "el factorial es  120\n"
     ]
    }
   ],
   "source": [
    "a=5\n",
    "if type(a)== int:\n",
    "    if a > 0:\n",
    "        factorial= a\n",
    "        while a >2 :\n",
    "            a=a-1\n",
    "            factorial=factorial*a\n",
    "        print( \"el factorial es \", factorial)\n",
    "    else: (\"El numero no es mayior a cero\")\n",
    "else: (\" el numero no es entero\")"
   ]
  },
  {
   "attachments": {},
   "cell_type": "markdown",
   "metadata": {},
   "source": [
    "7) Crear un ciclo for dentro de un ciclo while"
   ]
  },
  {
   "cell_type": "code",
   "execution_count": 58,
   "metadata": {},
   "outputs": [
    {
     "name": "stdout",
     "output_type": "stream",
     "text": [
      "Ciclo while nro 1\n",
      "Ciclo for nro 1\n",
      "Ciclo while nro 2\n",
      "Ciclo for nro 1\n",
      "Ciclo for nro 2\n",
      "Ciclo while nro 3\n",
      "Ciclo for nro 1\n",
      "Ciclo for nro 2\n",
      "Ciclo for nro 3\n",
      "Ciclo while nro 4\n",
      "Ciclo for nro 1\n",
      "Ciclo for nro 2\n",
      "Ciclo for nro 3\n",
      "Ciclo for nro 4\n",
      "Ciclo while nro 5\n",
      "Ciclo for nro 1\n",
      "Ciclo for nro 2\n",
      "Ciclo for nro 3\n",
      "Ciclo for nro 4\n",
      "Ciclo for nro 5\n"
     ]
    }
   ],
   "source": [
    "a=1\n",
    "while a < 6:\n",
    "    print (\"Ciclo while nro\" ,a)\n",
    "    for i in range (1,a+1):\n",
    "      print (\"Ciclo for nro\" ,i)\n",
    "    a+=1"
   ]
  },
  {
   "attachments": {},
   "cell_type": "markdown",
   "metadata": {},
   "source": [
    "8) Crear un ciclo while dentro de un ciclo for"
   ]
  },
  {
   "cell_type": "code",
   "execution_count": 71,
   "metadata": {},
   "outputs": [
    {
     "name": "stdout",
     "output_type": "stream",
     "text": [
      "Ciclo for nro 1\n",
      "Ciclo while nro 5\n",
      "Ciclo while nro 4\n",
      "Ciclo while nro 3\n",
      "Ciclo while nro 2\n",
      "Ciclo while nro 1\n",
      "Ciclo while nro 0\n",
      "Ciclo for nro 2\n",
      "Ciclo for nro 3\n",
      "Ciclo for nro 4\n"
     ]
    }
   ],
   "source": [
    "a=6\n",
    "\n",
    "for i in range(1,a-1):\n",
    "  print (\"Ciclo for nro\" ,i)\n",
    "  while a > 0:\n",
    "    a-=1\n",
    "    print (\"Ciclo while nro\" ,a)\n",
    "   \n",
    " "
   ]
  },
  {
   "attachments": {},
   "cell_type": "markdown",
   "metadata": {},
   "source": [
    "9) Imprimir los números primos existentes entre 0 y 30"
   ]
  },
  {
   "cell_type": "code",
   "execution_count": 76,
   "metadata": {},
   "outputs": [
    {
     "name": "stdout",
     "output_type": "stream",
     "text": [
      "0\n",
      "1\n",
      "2\n",
      "3\n",
      "5\n",
      "7\n",
      "11\n",
      "13\n",
      "17\n",
      "19\n",
      "23\n",
      "29\n"
     ]
    }
   ],
   "source": [
    "rango=30\n",
    "n = 0\n",
    "primo = True\n",
    "while (n < rango):\n",
    "    for i in range(2, n):\n",
    "        if (n % i == 0):\n",
    "            primo = False\n",
    "    if (primo):\n",
    "        print(n)\n",
    "    else:\n",
    "        primo = True\n",
    "    n += 1"
   ]
  },
  {
   "attachments": {},
   "cell_type": "markdown",
   "metadata": {},
   "source": [
    "10) ¿Se puede mejorar el proceso del punto 9? Utilizar las sentencias break y/ó continue para tal fin"
   ]
  },
  {
   "cell_type": "code",
   "execution_count": 84,
   "metadata": {},
   "outputs": [
    {
     "name": "stdout",
     "output_type": "stream",
     "text": [
      "0\n",
      "1\n",
      "2\n",
      "3\n",
      "5\n",
      "7\n",
      "11\n",
      "13\n",
      "17\n",
      "19\n",
      "23\n",
      "29\n"
     ]
    }
   ],
   "source": [
    "rango=30\n",
    "n = 0\n",
    "primo = True\n",
    "while (n < rango):\n",
    "    for i in range(2, n):\n",
    "        if (n % i == 0):\n",
    "            primo = False\n",
    "            break\n",
    "    if (primo):\n",
    "        print(n)\n",
    "    else:\n",
    "        primo = True\n",
    "    n += 1\n",
    "   \n",
    "   "
   ]
  },
  {
   "attachments": {},
   "cell_type": "markdown",
   "metadata": {},
   "source": [
    "11) En los puntos 9 y 10, se diseño un código que encuentra números primos y además se lo optimizó. ¿Es posible saber en qué medida se optimizó?"
   ]
  },
  {
   "cell_type": "code",
   "execution_count": 85,
   "metadata": {},
   "outputs": [
    {
     "name": "stdout",
     "output_type": "stream",
     "text": [
      "0\n",
      "1\n",
      "2\n",
      "3\n",
      "5\n",
      "7\n",
      "11\n",
      "13\n",
      "17\n",
      "19\n",
      "23\n",
      "29\n",
      "Cantidad de ciclos 378\n"
     ]
    }
   ],
   "source": [
    "Ciclos =0\n",
    "rango=30\n",
    "n = 0\n",
    "primo = True\n",
    "while (n < rango):\n",
    "    for i in range(2, n):\n",
    "        Ciclos +=1\n",
    "        if (n % i == 0):\n",
    "            primo = False\n",
    "    if (primo):\n",
    "        print(n)\n",
    "    else:\n",
    "        primo = True\n",
    "    n += 1\n",
    "print (\"Cantidad de ciclos\", Ciclos)"
   ]
  },
  {
   "cell_type": "code",
   "execution_count": 102,
   "metadata": {},
   "outputs": [
    {
     "data": {
      "text/plain": [
       "1"
      ]
     },
     "execution_count": 102,
     "metadata": {},
     "output_type": "execute_result"
    }
   ],
   "source": [
    "3//3"
   ]
  },
  {
   "attachments": {},
   "cell_type": "markdown",
   "metadata": {},
   "source": [
    "12) Aplicando continue, armar un ciclo while que solo imprima los valores divisibles por 12, dentro del rango de números de 100 a 300"
   ]
  },
  {
   "cell_type": "code",
   "execution_count": 104,
   "metadata": {},
   "outputs": [
    {
     "name": "stdout",
     "output_type": "stream",
     "text": [
      "108  es divisible por 12\n",
      "120  es divisible por 12\n",
      "132  es divisible por 12\n",
      "144  es divisible por 12\n",
      "156  es divisible por 12\n",
      "168  es divisible por 12\n",
      "180  es divisible por 12\n",
      "192  es divisible por 12\n",
      "204  es divisible por 12\n",
      "216  es divisible por 12\n",
      "228  es divisible por 12\n",
      "240  es divisible por 12\n",
      "252  es divisible por 12\n",
      "264  es divisible por 12\n",
      "276  es divisible por 12\n",
      "288  es divisible por 12\n",
      "300  es divisible por 12\n"
     ]
    }
   ],
   "source": [
    "n=99\n",
    "while n<=300:\n",
    "    n+=1\n",
    "    if n%12 !=0:\n",
    "        continue\n",
    "    print(n, \" es divisible por 12\")\n",
    "            "
   ]
  },
  {
   "attachments": {},
   "cell_type": "markdown",
   "metadata": {},
   "source": [
    "13) Utilizar la función **input()** que permite hacer ingresos por teclado, para encontrar números primos y dar la opción al usario de buscar el siguiente"
   ]
  },
  {
   "cell_type": "code",
   "execution_count": 1,
   "metadata": {},
   "outputs": [
    {
     "name": "stdout",
     "output_type": "stream",
     "text": [
      "1\n",
      "¿Desa seguir buscando números primos? \n"
     ]
    },
    {
     "name": "stdout",
     "output_type": "stream",
     "text": [
      "2\n",
      "¿Desa seguir buscando números primos? \n",
      "¡La busqueda a finalizado! \n"
     ]
    }
   ],
   "source": [
    "n = 1\n",
    "siguiente = 1\n",
    "primo = True\n",
    "while (siguiente == 1):\n",
    "    for i in range(2, n):\n",
    "        if (n % i == 0):\n",
    "            primo = False\n",
    "            break\n",
    "    if (primo):\n",
    "        print(n)\n",
    "        input(print(\"¿Desa seguir buscando números primos? \"))\n",
    "        if (input() != '1'):\n",
    "            print(\"¡La busqueda a finalizado! \")\n",
    "            break\n",
    "    else:\n",
    "        primo = True\n",
    "        \n",
    "    n += 1\n"
   ]
  },
  {
   "attachments": {},
   "cell_type": "markdown",
   "metadata": {},
   "source": [
    "14) Crear un ciclo while que encuentre dentro del rango de 100 a 300 el primer número divisible por 3 y además múltiplo de 6"
   ]
  },
  {
   "cell_type": "code",
   "execution_count": 12,
   "metadata": {},
   "outputs": [
    {
     "name": "stdout",
     "output_type": "stream",
     "text": [
      "102  es divisible por 3 y multiplo de 6\n"
     ]
    }
   ],
   "source": [
    "n= 100\n",
    "while n< 300:\n",
    "  if n% 6 ==0:\n",
    "    print(n,\" es divisible por 3 y multiplo de 6\")\n",
    "    break\n",
    "  n+=1"
   ]
  }
 ],
 "metadata": {
  "interpreter": {
   "hash": "c85384e4cb51c8b72350f3a8712cc8351fdc3955e32a27f9b60c6242ab125f01"
  },
  "kernelspec": {
   "display_name": "Python 3 (ipykernel)",
   "language": "python",
   "name": "python3"
  },
  "language_info": {
   "codemirror_mode": {
    "name": "ipython",
    "version": 3
   },
   "file_extension": ".py",
   "mimetype": "text/x-python",
   "name": "python",
   "nbconvert_exporter": "python",
   "pygments_lexer": "ipython3",
   "version": "3.11.6"
  }
 },
 "nbformat": 4,
 "nbformat_minor": 4
}
